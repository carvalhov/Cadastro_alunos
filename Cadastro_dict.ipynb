{
  "cells": [
    {
      "cell_type": "markdown",
      "metadata": {
        "id": "view-in-github",
        "colab_type": "text"
      },
      "source": [
        "<a href=\"https://colab.research.google.com/github/carvalhov/Cadastro_alunos/blob/main/Cadastro_dict.ipynb\" target=\"_parent\"><img src=\"https://colab.research.google.com/assets/colab-badge.svg\" alt=\"Open In Colab\"/></a>"
      ]
    },
    {
      "cell_type": "markdown",
      "metadata": {
        "id": "9WDXFK-0fK7I"
      },
      "source": [
        "Crie um programa que solicita ao usuário o nome, sexo e nota da\n",
        "disciplina de vários alunos e alunas que cursam a mesma. Os dados\n",
        "de cada pessoa deverão ser guardados em um dicionário e todos os\n",
        "dicionários em uma lista. Ao final do cadastro, mostre:\n",
        "\n",
        "*   O total de pessoas cadastradas\n",
        "*   A nota média da turma\n",
        "*   Uma tupla com as mulheres\n",
        "*   Uma lista de pessoas com nota acima da média\n"
      ]
    },
    {
      "cell_type": "code",
      "execution_count": 1,
      "metadata": {
        "id": "L1MfOzBbp0ww"
      },
      "outputs": [],
      "source": [
        "def exibir_menu():\n",
        "    print('''___________________________________\n",
        "    Escolha uma opção:\n",
        "\n",
        "    1. Cadastrar um novo aluno\n",
        "    2. Listar o numero de pessoas cadastradas\n",
        "    3. Nota Média dos alunos cadastrados\n",
        "    4. Mulheres na turma\n",
        "    5. Pessoas com nota acima da média\n",
        "    ''')"
      ]
    },
    {
      "cell_type": "code",
      "execution_count": 2,
      "metadata": {
        "id": "J0e7mSjap0ZP"
      },
      "outputs": [],
      "source": [
        "def novo_cadastro(alunos):\n",
        "    name = input('Digite o seu nome: ')\n",
        "    sexo = input('Digite o seu sexo (F - feminino e M - masculino): ')\n",
        "    nota = float(input('Digite a sua nota: '))\n",
        "    cadastro = {'name': name, 'sexo': sexo, 'nota': nota}\n",
        "    alunos.append(cadastro)"
      ]
    },
    {
      "cell_type": "code",
      "execution_count": 3,
      "metadata": {
        "id": "CQT6-WvUwtGC"
      },
      "outputs": [],
      "source": [
        "def quantidade_pessoas(alunos):\n",
        "    quant_total  = len(alunos)\n",
        "    print(f'Número de alunos cadastrados: {quant_total}')\n",
        "    for i in range(quant_total):\n",
        "      print(f'{i+1} : {alunos[i]}')"
      ]
    },
    {
      "cell_type": "code",
      "execution_count": 4,
      "metadata": {
        "id": "SCg6qM-UwsTI"
      },
      "outputs": [],
      "source": [
        "def nota_media(alunos):\n",
        "    x = list(map(lambda x : x['nota'], alunos))\n",
        "    notas = []\n",
        "    for i in x:\n",
        "      notas.append(float(i))\n",
        "    return print(\"nota média = \" + str(sum(notas)/len(notas)))\n"
      ]
    },
    {
      "cell_type": "code",
      "execution_count": 5,
      "metadata": {
        "id": "ooKoRN8VqKcu"
      },
      "outputs": [],
      "source": [
        "def tupla_feminino(alunos):\n",
        "    x = []\n",
        "    key_value = 'F'\n",
        "    x = list(filter(lambda d: d['sexo'] in key_value, alunos))\n",
        "    newlist = sorted(x, key=lambda d: d['name']) \n",
        "    y = (newlist)\n",
        "    return print(y)"
      ]
    },
    {
      "cell_type": "code",
      "execution_count": 6,
      "metadata": {
        "id": "z48gsjjcvamh"
      },
      "outputs": [],
      "source": [
        "def acima_da_media(alunos):\n",
        "    x = [i for i in alunos if i['nota']>=7.0]\n",
        "    newlist = sorted(x, key=lambda d: d['name']) \n",
        "    return print(newlist)"
      ]
    },
    {
      "cell_type": "code",
      "execution_count": 7,
      "metadata": {
        "id": "cn1jAzbTZy-r"
      },
      "outputs": [],
      "source": [
        "def main():\n",
        "    alunos = []\n",
        "\n",
        "    while True:\n",
        "        exibir_menu()\n",
        "        op = int(input(\"Digite sua opção: \"))\n",
        "        if op == 1:\n",
        "          novo_cadastro(alunos)\n",
        "        elif op == 2:\n",
        "          quantidade_pessoas(alunos)\n",
        "        elif op == 3:\n",
        "          nota_media(alunos)\n",
        "        elif op == 4:\n",
        "          tupla_feminino(alunos)\n",
        "        elif op == 5:\n",
        "          acima_da_media(alunos)\n",
        "        else:\n",
        "          print('Opção inválida')\n",
        "        print(\"\\n\")\n",
        "    \n"
      ]
    },
    {
      "cell_type": "code",
      "execution_count": null,
      "metadata": {
        "colab": {
          "background_save": true,
          "base_uri": "https://localhost:8080/"
        },
        "id": "Lf5akXe8Su2M",
        "outputId": "89f9d7fc-5a76-453a-b542-dce12629b514"
      },
      "source": [
        "main()"
      ]
    }
  ],
  "metadata": {
    "colab": {
      "provenance": [],
      "authorship_tag": "ABX9TyMiaxo2P3ST2k+pKeUf9gOY",
      "include_colab_link": true
    },
    "kernelspec": {
      "display_name": "Python 3",
      "name": "python3"
    },
    "language_info": {
      "name": "python"
    }
  },
  "nbformat": 4,
  "nbformat_minor": 0
}
